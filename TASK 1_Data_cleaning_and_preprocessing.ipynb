{
 "cells": [
  {
   "cell_type": "markdown",
   "id": "02548dfa-b5a2-4a49-a845-d94303cee07a",
   "metadata": {},
   "source": [
    "# DATA CLEANING & PREPROCESSING"
   ]
  },
  {
   "cell_type": "markdown",
   "id": "4898d95b-e62f-4296-97a5-1bc4b4ac913b",
   "metadata": {},
   "source": [
    "## 1. Data and libraries importing"
   ]
  },
  {
   "cell_type": "code",
   "execution_count": 1,
   "id": "4bf1a84b-b163-4a42-b19c-26ad178513c6",
   "metadata": {},
   "outputs": [],
   "source": [
    "import pandas as pd\n",
    "import numpy as np\n",
    "import seaborn as sns\n",
    "import matplotlib.pyplot as plt"
   ]
  },
  {
   "cell_type": "code",
   "execution_count": 2,
   "id": "c0baae74-dd33-4bba-9319-0b6848b37f82",
   "metadata": {},
   "outputs": [],
   "source": [
    "df=pd.read_csv(\"appoinment_noshow.csv\")"
   ]
  },
  {
   "cell_type": "code",
   "execution_count": 3,
   "id": "98b071a5-a4d2-402c-943d-b0c56d2a31a0",
   "metadata": {},
   "outputs": [
    {
     "data": {
      "text/html": [
       "<div>\n",
       "<style scoped>\n",
       "    .dataframe tbody tr th:only-of-type {\n",
       "        vertical-align: middle;\n",
       "    }\n",
       "\n",
       "    .dataframe tbody tr th {\n",
       "        vertical-align: top;\n",
       "    }\n",
       "\n",
       "    .dataframe thead th {\n",
       "        text-align: right;\n",
       "    }\n",
       "</style>\n",
       "<table border=\"1\" class=\"dataframe\">\n",
       "  <thead>\n",
       "    <tr style=\"text-align: right;\">\n",
       "      <th></th>\n",
       "      <th>PatientId</th>\n",
       "      <th>AppointmentID</th>\n",
       "      <th>Gender</th>\n",
       "      <th>ScheduledDay</th>\n",
       "      <th>AppointmentDay</th>\n",
       "      <th>Age</th>\n",
       "      <th>Neighbourhood</th>\n",
       "      <th>Scholarship</th>\n",
       "      <th>Hipertension</th>\n",
       "      <th>Diabetes</th>\n",
       "      <th>Alcoholism</th>\n",
       "      <th>Handcap</th>\n",
       "      <th>SMS_received</th>\n",
       "      <th>No-show</th>\n",
       "    </tr>\n",
       "  </thead>\n",
       "  <tbody>\n",
       "    <tr>\n",
       "      <th>0</th>\n",
       "      <td>2.987250e+13</td>\n",
       "      <td>5642903</td>\n",
       "      <td>F</td>\n",
       "      <td>2016-04-29T18:38:08Z</td>\n",
       "      <td>2016-04-29T00:00:00Z</td>\n",
       "      <td>62</td>\n",
       "      <td>JARDIM DA PENHA</td>\n",
       "      <td>0</td>\n",
       "      <td>1</td>\n",
       "      <td>0</td>\n",
       "      <td>0</td>\n",
       "      <td>0</td>\n",
       "      <td>0</td>\n",
       "      <td>No</td>\n",
       "    </tr>\n",
       "    <tr>\n",
       "      <th>1</th>\n",
       "      <td>5.589978e+14</td>\n",
       "      <td>5642503</td>\n",
       "      <td>M</td>\n",
       "      <td>2016-04-29T16:08:27Z</td>\n",
       "      <td>2016-04-29T00:00:00Z</td>\n",
       "      <td>56</td>\n",
       "      <td>JARDIM DA PENHA</td>\n",
       "      <td>0</td>\n",
       "      <td>0</td>\n",
       "      <td>0</td>\n",
       "      <td>0</td>\n",
       "      <td>0</td>\n",
       "      <td>0</td>\n",
       "      <td>No</td>\n",
       "    </tr>\n",
       "    <tr>\n",
       "      <th>2</th>\n",
       "      <td>4.262962e+12</td>\n",
       "      <td>5642549</td>\n",
       "      <td>F</td>\n",
       "      <td>2016-04-29T16:19:04Z</td>\n",
       "      <td>2016-04-29T00:00:00Z</td>\n",
       "      <td>62</td>\n",
       "      <td>MATA DA PRAIA</td>\n",
       "      <td>0</td>\n",
       "      <td>0</td>\n",
       "      <td>0</td>\n",
       "      <td>0</td>\n",
       "      <td>0</td>\n",
       "      <td>0</td>\n",
       "      <td>No</td>\n",
       "    </tr>\n",
       "    <tr>\n",
       "      <th>3</th>\n",
       "      <td>8.679512e+11</td>\n",
       "      <td>5642828</td>\n",
       "      <td>F</td>\n",
       "      <td>2016-04-29T17:29:31Z</td>\n",
       "      <td>2016-04-29T00:00:00Z</td>\n",
       "      <td>8</td>\n",
       "      <td>PONTAL DE CAMBURI</td>\n",
       "      <td>0</td>\n",
       "      <td>0</td>\n",
       "      <td>0</td>\n",
       "      <td>0</td>\n",
       "      <td>0</td>\n",
       "      <td>0</td>\n",
       "      <td>No</td>\n",
       "    </tr>\n",
       "    <tr>\n",
       "      <th>4</th>\n",
       "      <td>8.841186e+12</td>\n",
       "      <td>5642494</td>\n",
       "      <td>F</td>\n",
       "      <td>2016-04-29T16:07:23Z</td>\n",
       "      <td>2016-04-29T00:00:00Z</td>\n",
       "      <td>56</td>\n",
       "      <td>JARDIM DA PENHA</td>\n",
       "      <td>0</td>\n",
       "      <td>1</td>\n",
       "      <td>1</td>\n",
       "      <td>0</td>\n",
       "      <td>0</td>\n",
       "      <td>0</td>\n",
       "      <td>No</td>\n",
       "    </tr>\n",
       "    <tr>\n",
       "      <th>...</th>\n",
       "      <td>...</td>\n",
       "      <td>...</td>\n",
       "      <td>...</td>\n",
       "      <td>...</td>\n",
       "      <td>...</td>\n",
       "      <td>...</td>\n",
       "      <td>...</td>\n",
       "      <td>...</td>\n",
       "      <td>...</td>\n",
       "      <td>...</td>\n",
       "      <td>...</td>\n",
       "      <td>...</td>\n",
       "      <td>...</td>\n",
       "      <td>...</td>\n",
       "    </tr>\n",
       "    <tr>\n",
       "      <th>110522</th>\n",
       "      <td>2.572134e+12</td>\n",
       "      <td>5651768</td>\n",
       "      <td>F</td>\n",
       "      <td>2016-05-03T09:15:35Z</td>\n",
       "      <td>2016-06-07T00:00:00Z</td>\n",
       "      <td>56</td>\n",
       "      <td>MARIA ORTIZ</td>\n",
       "      <td>0</td>\n",
       "      <td>0</td>\n",
       "      <td>0</td>\n",
       "      <td>0</td>\n",
       "      <td>0</td>\n",
       "      <td>1</td>\n",
       "      <td>No</td>\n",
       "    </tr>\n",
       "    <tr>\n",
       "      <th>110523</th>\n",
       "      <td>3.596266e+12</td>\n",
       "      <td>5650093</td>\n",
       "      <td>F</td>\n",
       "      <td>2016-05-03T07:27:33Z</td>\n",
       "      <td>2016-06-07T00:00:00Z</td>\n",
       "      <td>51</td>\n",
       "      <td>MARIA ORTIZ</td>\n",
       "      <td>0</td>\n",
       "      <td>0</td>\n",
       "      <td>0</td>\n",
       "      <td>0</td>\n",
       "      <td>0</td>\n",
       "      <td>1</td>\n",
       "      <td>No</td>\n",
       "    </tr>\n",
       "    <tr>\n",
       "      <th>110524</th>\n",
       "      <td>1.557663e+13</td>\n",
       "      <td>5630692</td>\n",
       "      <td>F</td>\n",
       "      <td>2016-04-27T16:03:52Z</td>\n",
       "      <td>2016-06-07T00:00:00Z</td>\n",
       "      <td>21</td>\n",
       "      <td>MARIA ORTIZ</td>\n",
       "      <td>0</td>\n",
       "      <td>0</td>\n",
       "      <td>0</td>\n",
       "      <td>0</td>\n",
       "      <td>0</td>\n",
       "      <td>1</td>\n",
       "      <td>No</td>\n",
       "    </tr>\n",
       "    <tr>\n",
       "      <th>110525</th>\n",
       "      <td>9.213493e+13</td>\n",
       "      <td>5630323</td>\n",
       "      <td>F</td>\n",
       "      <td>2016-04-27T15:09:23Z</td>\n",
       "      <td>2016-06-07T00:00:00Z</td>\n",
       "      <td>38</td>\n",
       "      <td>MARIA ORTIZ</td>\n",
       "      <td>0</td>\n",
       "      <td>0</td>\n",
       "      <td>0</td>\n",
       "      <td>0</td>\n",
       "      <td>0</td>\n",
       "      <td>1</td>\n",
       "      <td>No</td>\n",
       "    </tr>\n",
       "    <tr>\n",
       "      <th>110526</th>\n",
       "      <td>3.775115e+14</td>\n",
       "      <td>5629448</td>\n",
       "      <td>F</td>\n",
       "      <td>2016-04-27T13:30:56Z</td>\n",
       "      <td>2016-06-07T00:00:00Z</td>\n",
       "      <td>54</td>\n",
       "      <td>MARIA ORTIZ</td>\n",
       "      <td>0</td>\n",
       "      <td>0</td>\n",
       "      <td>0</td>\n",
       "      <td>0</td>\n",
       "      <td>0</td>\n",
       "      <td>1</td>\n",
       "      <td>No</td>\n",
       "    </tr>\n",
       "  </tbody>\n",
       "</table>\n",
       "<p>110527 rows × 14 columns</p>\n",
       "</div>"
      ],
      "text/plain": [
       "           PatientId  AppointmentID Gender          ScheduledDay  \\\n",
       "0       2.987250e+13        5642903      F  2016-04-29T18:38:08Z   \n",
       "1       5.589978e+14        5642503      M  2016-04-29T16:08:27Z   \n",
       "2       4.262962e+12        5642549      F  2016-04-29T16:19:04Z   \n",
       "3       8.679512e+11        5642828      F  2016-04-29T17:29:31Z   \n",
       "4       8.841186e+12        5642494      F  2016-04-29T16:07:23Z   \n",
       "...              ...            ...    ...                   ...   \n",
       "110522  2.572134e+12        5651768      F  2016-05-03T09:15:35Z   \n",
       "110523  3.596266e+12        5650093      F  2016-05-03T07:27:33Z   \n",
       "110524  1.557663e+13        5630692      F  2016-04-27T16:03:52Z   \n",
       "110525  9.213493e+13        5630323      F  2016-04-27T15:09:23Z   \n",
       "110526  3.775115e+14        5629448      F  2016-04-27T13:30:56Z   \n",
       "\n",
       "              AppointmentDay  Age      Neighbourhood  Scholarship  \\\n",
       "0       2016-04-29T00:00:00Z   62    JARDIM DA PENHA            0   \n",
       "1       2016-04-29T00:00:00Z   56    JARDIM DA PENHA            0   \n",
       "2       2016-04-29T00:00:00Z   62      MATA DA PRAIA            0   \n",
       "3       2016-04-29T00:00:00Z    8  PONTAL DE CAMBURI            0   \n",
       "4       2016-04-29T00:00:00Z   56    JARDIM DA PENHA            0   \n",
       "...                      ...  ...                ...          ...   \n",
       "110522  2016-06-07T00:00:00Z   56        MARIA ORTIZ            0   \n",
       "110523  2016-06-07T00:00:00Z   51        MARIA ORTIZ            0   \n",
       "110524  2016-06-07T00:00:00Z   21        MARIA ORTIZ            0   \n",
       "110525  2016-06-07T00:00:00Z   38        MARIA ORTIZ            0   \n",
       "110526  2016-06-07T00:00:00Z   54        MARIA ORTIZ            0   \n",
       "\n",
       "        Hipertension  Diabetes  Alcoholism  Handcap  SMS_received No-show  \n",
       "0                  1         0           0        0             0      No  \n",
       "1                  0         0           0        0             0      No  \n",
       "2                  0         0           0        0             0      No  \n",
       "3                  0         0           0        0             0      No  \n",
       "4                  1         1           0        0             0      No  \n",
       "...              ...       ...         ...      ...           ...     ...  \n",
       "110522             0         0           0        0             1      No  \n",
       "110523             0         0           0        0             1      No  \n",
       "110524             0         0           0        0             1      No  \n",
       "110525             0         0           0        0             1      No  \n",
       "110526             0         0           0        0             1      No  \n",
       "\n",
       "[110527 rows x 14 columns]"
      ]
     },
     "execution_count": 3,
     "metadata": {},
     "output_type": "execute_result"
    }
   ],
   "source": [
    "df"
   ]
  },
  {
   "cell_type": "markdown",
   "id": "6f509e03-c9d8-442c-8ef7-ee0c8454e946",
   "metadata": {},
   "source": [
    "## 2. Data preprocessing and cleaning"
   ]
  },
  {
   "cell_type": "markdown",
   "id": "c9812237-f303-4083-a338-eff960fcbfc1",
   "metadata": {},
   "source": [
    "### 2a.Column headers name changing to appropriate preferred type"
   ]
  },
  {
   "cell_type": "code",
   "execution_count": 4,
   "id": "22a8a196-03a1-4820-be97-94888654cb64",
   "metadata": {},
   "outputs": [
    {
     "data": {
      "text/plain": [
       "Index(['PatientId', 'AppointmentID', 'Gender', 'ScheduledDay',\n",
       "       'AppointmentDay', 'Age', 'Neighbourhood', 'Scholarship', 'Hipertension',\n",
       "       'Diabetes', 'Alcoholism', 'Handcap', 'SMS_received', 'No-show'],\n",
       "      dtype='object')"
      ]
     },
     "execution_count": 4,
     "metadata": {},
     "output_type": "execute_result"
    }
   ],
   "source": [
    "df.columns"
   ]
  },
  {
   "cell_type": "code",
   "execution_count": 5,
   "id": "8f07c02c-ba91-4479-bfd6-771b126c1d8d",
   "metadata": {},
   "outputs": [],
   "source": [
    "df.columns=[\"patient_id\",\"appoinment_id\",\"gender\",\"schedule_date\",\"appoinment_date\",\"age\",\"appoinment_place\",\"scholarship\",\n",
    "            \"hyper_tension\",\"diabetes\",\"alcoholic\",\"handicapped\",\"sms_received\",\"no_show\"]"
   ]
  },
  {
   "cell_type": "code",
   "execution_count": 6,
   "id": "c5351984-e871-4ee2-977a-ed395bbafae8",
   "metadata": {},
   "outputs": [
    {
     "data": {
      "text/plain": [
       "Index(['patient_id', 'appoinment_id', 'gender', 'schedule_date',\n",
       "       'appoinment_date', 'age', 'appoinment_place', 'scholarship',\n",
       "       'hyper_tension', 'diabetes', 'alcoholic', 'handicapped', 'sms_received',\n",
       "       'no_show'],\n",
       "      dtype='object')"
      ]
     },
     "execution_count": 6,
     "metadata": {},
     "output_type": "execute_result"
    }
   ],
   "source": [
    "df.columns"
   ]
  },
  {
   "cell_type": "code",
   "execution_count": 7,
   "id": "11ca159a-5c6f-4e4c-bf7b-edd43ab8802e",
   "metadata": {},
   "outputs": [
    {
     "data": {
      "text/html": [
       "<div>\n",
       "<style scoped>\n",
       "    .dataframe tbody tr th:only-of-type {\n",
       "        vertical-align: middle;\n",
       "    }\n",
       "\n",
       "    .dataframe tbody tr th {\n",
       "        vertical-align: top;\n",
       "    }\n",
       "\n",
       "    .dataframe thead th {\n",
       "        text-align: right;\n",
       "    }\n",
       "</style>\n",
       "<table border=\"1\" class=\"dataframe\">\n",
       "  <thead>\n",
       "    <tr style=\"text-align: right;\">\n",
       "      <th></th>\n",
       "      <th>patient_id</th>\n",
       "      <th>appoinment_id</th>\n",
       "      <th>gender</th>\n",
       "      <th>schedule_date</th>\n",
       "      <th>appoinment_date</th>\n",
       "      <th>age</th>\n",
       "      <th>appoinment_place</th>\n",
       "      <th>scholarship</th>\n",
       "      <th>hyper_tension</th>\n",
       "      <th>diabetes</th>\n",
       "      <th>alcoholic</th>\n",
       "      <th>handicapped</th>\n",
       "      <th>sms_received</th>\n",
       "      <th>no_show</th>\n",
       "    </tr>\n",
       "  </thead>\n",
       "  <tbody>\n",
       "    <tr>\n",
       "      <th>0</th>\n",
       "      <td>2.987250e+13</td>\n",
       "      <td>5642903</td>\n",
       "      <td>F</td>\n",
       "      <td>2016-04-29T18:38:08Z</td>\n",
       "      <td>2016-04-29T00:00:00Z</td>\n",
       "      <td>62</td>\n",
       "      <td>JARDIM DA PENHA</td>\n",
       "      <td>0</td>\n",
       "      <td>1</td>\n",
       "      <td>0</td>\n",
       "      <td>0</td>\n",
       "      <td>0</td>\n",
       "      <td>0</td>\n",
       "      <td>No</td>\n",
       "    </tr>\n",
       "    <tr>\n",
       "      <th>1</th>\n",
       "      <td>5.589978e+14</td>\n",
       "      <td>5642503</td>\n",
       "      <td>M</td>\n",
       "      <td>2016-04-29T16:08:27Z</td>\n",
       "      <td>2016-04-29T00:00:00Z</td>\n",
       "      <td>56</td>\n",
       "      <td>JARDIM DA PENHA</td>\n",
       "      <td>0</td>\n",
       "      <td>0</td>\n",
       "      <td>0</td>\n",
       "      <td>0</td>\n",
       "      <td>0</td>\n",
       "      <td>0</td>\n",
       "      <td>No</td>\n",
       "    </tr>\n",
       "    <tr>\n",
       "      <th>2</th>\n",
       "      <td>4.262962e+12</td>\n",
       "      <td>5642549</td>\n",
       "      <td>F</td>\n",
       "      <td>2016-04-29T16:19:04Z</td>\n",
       "      <td>2016-04-29T00:00:00Z</td>\n",
       "      <td>62</td>\n",
       "      <td>MATA DA PRAIA</td>\n",
       "      <td>0</td>\n",
       "      <td>0</td>\n",
       "      <td>0</td>\n",
       "      <td>0</td>\n",
       "      <td>0</td>\n",
       "      <td>0</td>\n",
       "      <td>No</td>\n",
       "    </tr>\n",
       "  </tbody>\n",
       "</table>\n",
       "</div>"
      ],
      "text/plain": [
       "     patient_id  appoinment_id gender         schedule_date  \\\n",
       "0  2.987250e+13        5642903      F  2016-04-29T18:38:08Z   \n",
       "1  5.589978e+14        5642503      M  2016-04-29T16:08:27Z   \n",
       "2  4.262962e+12        5642549      F  2016-04-29T16:19:04Z   \n",
       "\n",
       "        appoinment_date  age appoinment_place  scholarship  hyper_tension  \\\n",
       "0  2016-04-29T00:00:00Z   62  JARDIM DA PENHA            0              1   \n",
       "1  2016-04-29T00:00:00Z   56  JARDIM DA PENHA            0              0   \n",
       "2  2016-04-29T00:00:00Z   62    MATA DA PRAIA            0              0   \n",
       "\n",
       "   diabetes  alcoholic  handicapped  sms_received no_show  \n",
       "0         0          0            0             0      No  \n",
       "1         0          0            0             0      No  \n",
       "2         0          0            0             0      No  "
      ]
     },
     "execution_count": 7,
     "metadata": {},
     "output_type": "execute_result"
    }
   ],
   "source": [
    "df.head(3)"
   ]
  },
  {
   "cell_type": "markdown",
   "id": "34deac26-804e-4fb0-b9a0-ff2a9bca3165",
   "metadata": {},
   "source": [
    "### 2b.Finding null values and duplicates"
   ]
  },
  {
   "cell_type": "code",
   "execution_count": 8,
   "id": "32f097ef-b61d-47ee-9f21-b1d74b0ed139",
   "metadata": {},
   "outputs": [
    {
     "data": {
      "text/plain": [
       "patient_id          0\n",
       "appoinment_id       0\n",
       "gender              0\n",
       "schedule_date       0\n",
       "appoinment_date     0\n",
       "age                 0\n",
       "appoinment_place    0\n",
       "scholarship         0\n",
       "hyper_tension       0\n",
       "diabetes            0\n",
       "alcoholic           0\n",
       "handicapped         0\n",
       "sms_received        0\n",
       "no_show             0\n",
       "dtype: int64"
      ]
     },
     "execution_count": 8,
     "metadata": {},
     "output_type": "execute_result"
    }
   ],
   "source": [
    "df.isnull().sum()"
   ]
  },
  {
   "cell_type": "code",
   "execution_count": 9,
   "id": "1a3043c5-477a-40b0-aef3-31ab1c9a52f1",
   "metadata": {},
   "outputs": [
    {
     "data": {
      "text/plain": [
       "0"
      ]
     },
     "execution_count": 9,
     "metadata": {},
     "output_type": "execute_result"
    }
   ],
   "source": [
    "df.duplicated().sum()"
   ]
  },
  {
   "cell_type": "markdown",
   "id": "807bdc27-7aa9-490c-a6f3-98e3595929f6",
   "metadata": {},
   "source": [
    "* There is no null values or duplicated records in the dataset"
   ]
  },
  {
   "cell_type": "markdown",
   "id": "d23a60f2-403c-4ce3-843f-255ebdff96cf",
   "metadata": {},
   "source": [
    "### 2c. Data type changing"
   ]
  },
  {
   "cell_type": "code",
   "execution_count": 10,
   "id": "bdde4d31-b339-439b-a00d-6c76b10c7807",
   "metadata": {},
   "outputs": [
    {
     "data": {
      "text/plain": [
       "patient_id          float64\n",
       "appoinment_id         int64\n",
       "gender               object\n",
       "schedule_date        object\n",
       "appoinment_date      object\n",
       "age                   int64\n",
       "appoinment_place     object\n",
       "scholarship           int64\n",
       "hyper_tension         int64\n",
       "diabetes              int64\n",
       "alcoholic             int64\n",
       "handicapped           int64\n",
       "sms_received          int64\n",
       "no_show              object\n",
       "dtype: object"
      ]
     },
     "execution_count": 10,
     "metadata": {},
     "output_type": "execute_result"
    }
   ],
   "source": [
    "df.dtypes"
   ]
  },
  {
   "cell_type": "markdown",
   "id": "d79366b1-cc9a-412e-a5b9-3bea5dc27251",
   "metadata": {},
   "source": [
    "* Here schedule_date and appoinment_date is in string utc datetime format. We need to change it to normal date time format"
   ]
  },
  {
   "cell_type": "code",
   "execution_count": 11,
   "id": "31ad676b-2820-4d12-a9e5-9ae75e0ff76f",
   "metadata": {},
   "outputs": [
    {
     "data": {
      "text/plain": [
       "0         2016-04-29T18:38:08Z\n",
       "1         2016-04-29T16:08:27Z\n",
       "2         2016-04-29T16:19:04Z\n",
       "3         2016-04-29T17:29:31Z\n",
       "4         2016-04-29T16:07:23Z\n",
       "                  ...         \n",
       "110522    2016-05-03T09:15:35Z\n",
       "110523    2016-05-03T07:27:33Z\n",
       "110524    2016-04-27T16:03:52Z\n",
       "110525    2016-04-27T15:09:23Z\n",
       "110526    2016-04-27T13:30:56Z\n",
       "Name: schedule_date, Length: 110527, dtype: object"
      ]
     },
     "execution_count": 11,
     "metadata": {},
     "output_type": "execute_result"
    }
   ],
   "source": [
    "df.schedule_date"
   ]
  },
  {
   "cell_type": "code",
   "execution_count": 12,
   "id": "79cb5990-5ddc-44b0-a92a-8d5403443777",
   "metadata": {},
   "outputs": [],
   "source": [
    "df.schedule_date=pd.to_datetime(df.schedule_date,format=\"ISO8601\").dt.strftime(\"%d-%m-%Y\")"
   ]
  },
  {
   "cell_type": "code",
   "execution_count": 13,
   "id": "d919eadc-8fa9-451a-b29d-74710f161c8d",
   "metadata": {},
   "outputs": [],
   "source": [
    "df.schedule_date=pd.to_datetime(df.schedule_date,dayfirst=True)"
   ]
  },
  {
   "cell_type": "code",
   "execution_count": 14,
   "id": "ad95fb86-02f2-4cbb-a21d-3885f7bc0fb3",
   "metadata": {},
   "outputs": [
    {
     "data": {
      "text/plain": [
       "0        2016-04-29\n",
       "1        2016-04-29\n",
       "2        2016-04-29\n",
       "3        2016-04-29\n",
       "4        2016-04-29\n",
       "            ...    \n",
       "110522   2016-05-03\n",
       "110523   2016-05-03\n",
       "110524   2016-04-27\n",
       "110525   2016-04-27\n",
       "110526   2016-04-27\n",
       "Name: schedule_date, Length: 110527, dtype: datetime64[ns]"
      ]
     },
     "execution_count": 14,
     "metadata": {},
     "output_type": "execute_result"
    }
   ],
   "source": [
    "df.schedule_date"
   ]
  },
  {
   "cell_type": "code",
   "execution_count": 15,
   "id": "ded592be-81d2-4884-ad0d-2c66a1fd35e3",
   "metadata": {},
   "outputs": [
    {
     "data": {
      "text/plain": [
       "0         2016-04-29T00:00:00Z\n",
       "1         2016-04-29T00:00:00Z\n",
       "2         2016-04-29T00:00:00Z\n",
       "3         2016-04-29T00:00:00Z\n",
       "4         2016-04-29T00:00:00Z\n",
       "                  ...         \n",
       "110522    2016-06-07T00:00:00Z\n",
       "110523    2016-06-07T00:00:00Z\n",
       "110524    2016-06-07T00:00:00Z\n",
       "110525    2016-06-07T00:00:00Z\n",
       "110526    2016-06-07T00:00:00Z\n",
       "Name: appoinment_date, Length: 110527, dtype: object"
      ]
     },
     "execution_count": 15,
     "metadata": {},
     "output_type": "execute_result"
    }
   ],
   "source": [
    "df.appoinment_date"
   ]
  },
  {
   "cell_type": "code",
   "execution_count": 16,
   "id": "24d80573-b3f6-4192-9813-8d8304057993",
   "metadata": {},
   "outputs": [],
   "source": [
    "df.appoinment_date=pd.to_datetime(df.appoinment_date,format=\"ISO8601\").dt.strftime(\"%d-%m-%Y\")"
   ]
  },
  {
   "cell_type": "code",
   "execution_count": 17,
   "id": "7f6f9300-e79c-488b-8f2d-d197380adc14",
   "metadata": {},
   "outputs": [],
   "source": [
    "df.appoinment_date=pd.to_datetime(df.appoinment_date,dayfirst=True)"
   ]
  },
  {
   "cell_type": "code",
   "execution_count": 18,
   "id": "4421bd81-48f1-4eab-b1b3-d2f54d593848",
   "metadata": {},
   "outputs": [
    {
     "data": {
      "text/plain": [
       "0        2016-04-29\n",
       "1        2016-04-29\n",
       "2        2016-04-29\n",
       "3        2016-04-29\n",
       "4        2016-04-29\n",
       "            ...    \n",
       "110522   2016-06-07\n",
       "110523   2016-06-07\n",
       "110524   2016-06-07\n",
       "110525   2016-06-07\n",
       "110526   2016-06-07\n",
       "Name: appoinment_date, Length: 110527, dtype: datetime64[ns]"
      ]
     },
     "execution_count": 18,
     "metadata": {},
     "output_type": "execute_result"
    }
   ],
   "source": [
    "df.appoinment_date"
   ]
  },
  {
   "cell_type": "code",
   "execution_count": 19,
   "id": "3ea3c1a4-d88d-47ac-85db-d33b46002382",
   "metadata": {},
   "outputs": [
    {
     "data": {
      "text/plain": [
       "patient_id                 float64\n",
       "appoinment_id                int64\n",
       "gender                      object\n",
       "schedule_date       datetime64[ns]\n",
       "appoinment_date     datetime64[ns]\n",
       "age                          int64\n",
       "appoinment_place            object\n",
       "scholarship                  int64\n",
       "hyper_tension                int64\n",
       "diabetes                     int64\n",
       "alcoholic                    int64\n",
       "handicapped                  int64\n",
       "sms_received                 int64\n",
       "no_show                     object\n",
       "dtype: object"
      ]
     },
     "execution_count": 19,
     "metadata": {},
     "output_type": "execute_result"
    }
   ],
   "source": [
    "df.dtypes"
   ]
  },
  {
   "cell_type": "markdown",
   "id": "87222473-0aca-4411-bd19-0cb065a78552",
   "metadata": {},
   "source": [
    "* Now the data types of all the columns are changed to appropriate format"
   ]
  },
  {
   "cell_type": "markdown",
   "id": "1975ce0d-403a-4c64-a8b8-222140313d68",
   "metadata": {},
   "source": [
    "### 2d. Column analysing, outlier detection and cleaning"
   ]
  },
  {
   "cell_type": "code",
   "execution_count": 20,
   "id": "cb62d2cc-3436-4996-98b1-ae4d0c218608",
   "metadata": {},
   "outputs": [
    {
     "data": {
      "text/plain": [
       "gender\n",
       "F    71840\n",
       "M    38687\n",
       "Name: count, dtype: int64"
      ]
     },
     "execution_count": 20,
     "metadata": {},
     "output_type": "execute_result"
    }
   ],
   "source": [
    "df.gender.value_counts()"
   ]
  },
  {
   "cell_type": "markdown",
   "id": "d764285e-c22c-491a-8a8e-ac0860c76925",
   "metadata": {},
   "source": [
    "* Let's standardize and encode gender category"
   ]
  },
  {
   "cell_type": "code",
   "execution_count": 21,
   "id": "e78e14bf-3181-42d4-a390-5e885dc63ea0",
   "metadata": {},
   "outputs": [],
   "source": [
    "df=df.replace({'gender':{\"F\":1,\"M\":0}})"
   ]
  },
  {
   "cell_type": "code",
   "execution_count": 22,
   "id": "71218d0d-e830-488c-8a05-4d1148cac3a5",
   "metadata": {},
   "outputs": [
    {
     "data": {
      "text/plain": [
       "gender\n",
       "1    71840\n",
       "0    38687\n",
       "Name: count, dtype: int64"
      ]
     },
     "execution_count": 22,
     "metadata": {},
     "output_type": "execute_result"
    }
   ],
   "source": [
    "df.gender.value_counts()"
   ]
  },
  {
   "cell_type": "code",
   "execution_count": 23,
   "id": "c73d4705-1be0-4981-98f7-66f29b039e23",
   "metadata": {},
   "outputs": [
    {
     "data": {
      "text/plain": [
       "<Axes: xlabel='age', ylabel='Density'>"
      ]
     },
     "execution_count": 23,
     "metadata": {},
     "output_type": "execute_result"
    },
    {
     "data": {
      "image/png": "[encoded data removed]",
      "text/plain": [
       "<Figure size 640x480 with 1 Axes>"
      ]
     },
     "metadata": {},
     "output_type": "display_data"
    }
   ],
   "source": [
    "sns.kdeplot(df.age)"
   ]
  },
  {
   "cell_type": "code",
   "execution_count": 24,
   "id": "177416c0-ffcc-4ee9-9e94-ee79bea45213",
   "metadata": {},
   "outputs": [
    {
     "data": {
      "text/html": [
       "<div>\n",
       "<style scoped>\n",
       "    .dataframe tbody tr th:only-of-type {\n",
       "        vertical-align: middle;\n",
       "    }\n",
       "\n",
       "    .dataframe tbody tr th {\n",
       "        vertical-align: top;\n",
       "    }\n",
       "\n",
       "    .dataframe thead th {\n",
       "        text-align: right;\n",
       "    }\n",
       "</style>\n",
       "<table border=\"1\" class=\"dataframe\">\n",
       "  <thead>\n",
       "    <tr style=\"text-align: right;\">\n",
       "      <th></th>\n",
       "      <th>patient_id</th>\n",
       "      <th>appoinment_id</th>\n",
       "      <th>gender</th>\n",
       "      <th>schedule_date</th>\n",
       "      <th>appoinment_date</th>\n",
       "      <th>age</th>\n",
       "      <th>appoinment_place</th>\n",
       "      <th>scholarship</th>\n",
       "      <th>hyper_tension</th>\n",
       "      <th>diabetes</th>\n",
       "      <th>alcoholic</th>\n",
       "      <th>handicapped</th>\n",
       "      <th>sms_received</th>\n",
       "      <th>no_show</th>\n",
       "    </tr>\n",
       "  </thead>\n",
       "  <tbody>\n",
       "    <tr>\n",
       "      <th>58014</th>\n",
       "      <td>9.762948e+14</td>\n",
       "      <td>5651757</td>\n",
       "      <td>1</td>\n",
       "      <td>2016-05-03</td>\n",
       "      <td>2016-05-03</td>\n",
       "      <td>102</td>\n",
       "      <td>CONQUISTA</td>\n",
       "      <td>0</td>\n",
       "      <td>0</td>\n",
       "      <td>0</td>\n",
       "      <td>0</td>\n",
       "      <td>0</td>\n",
       "      <td>0</td>\n",
       "      <td>No</td>\n",
       "    </tr>\n",
       "    <tr>\n",
       "      <th>63912</th>\n",
       "      <td>3.196321e+13</td>\n",
       "      <td>5700278</td>\n",
       "      <td>1</td>\n",
       "      <td>2016-05-16</td>\n",
       "      <td>2016-05-19</td>\n",
       "      <td>115</td>\n",
       "      <td>ANDORINHAS</td>\n",
       "      <td>0</td>\n",
       "      <td>0</td>\n",
       "      <td>0</td>\n",
       "      <td>0</td>\n",
       "      <td>1</td>\n",
       "      <td>0</td>\n",
       "      <td>Yes</td>\n",
       "    </tr>\n",
       "    <tr>\n",
       "      <th>63915</th>\n",
       "      <td>3.196321e+13</td>\n",
       "      <td>5700279</td>\n",
       "      <td>1</td>\n",
       "      <td>2016-05-16</td>\n",
       "      <td>2016-05-19</td>\n",
       "      <td>115</td>\n",
       "      <td>ANDORINHAS</td>\n",
       "      <td>0</td>\n",
       "      <td>0</td>\n",
       "      <td>0</td>\n",
       "      <td>0</td>\n",
       "      <td>1</td>\n",
       "      <td>0</td>\n",
       "      <td>Yes</td>\n",
       "    </tr>\n",
       "    <tr>\n",
       "      <th>68127</th>\n",
       "      <td>3.196321e+13</td>\n",
       "      <td>5562812</td>\n",
       "      <td>1</td>\n",
       "      <td>2016-04-08</td>\n",
       "      <td>2016-05-16</td>\n",
       "      <td>115</td>\n",
       "      <td>ANDORINHAS</td>\n",
       "      <td>0</td>\n",
       "      <td>0</td>\n",
       "      <td>0</td>\n",
       "      <td>0</td>\n",
       "      <td>1</td>\n",
       "      <td>0</td>\n",
       "      <td>Yes</td>\n",
       "    </tr>\n",
       "    <tr>\n",
       "      <th>76284</th>\n",
       "      <td>3.196321e+13</td>\n",
       "      <td>5744037</td>\n",
       "      <td>1</td>\n",
       "      <td>2016-05-30</td>\n",
       "      <td>2016-05-30</td>\n",
       "      <td>115</td>\n",
       "      <td>ANDORINHAS</td>\n",
       "      <td>0</td>\n",
       "      <td>0</td>\n",
       "      <td>0</td>\n",
       "      <td>0</td>\n",
       "      <td>1</td>\n",
       "      <td>0</td>\n",
       "      <td>No</td>\n",
       "    </tr>\n",
       "    <tr>\n",
       "      <th>90372</th>\n",
       "      <td>2.342836e+11</td>\n",
       "      <td>5751563</td>\n",
       "      <td>1</td>\n",
       "      <td>2016-05-31</td>\n",
       "      <td>2016-06-02</td>\n",
       "      <td>102</td>\n",
       "      <td>MARIA ORTIZ</td>\n",
       "      <td>0</td>\n",
       "      <td>0</td>\n",
       "      <td>0</td>\n",
       "      <td>0</td>\n",
       "      <td>0</td>\n",
       "      <td>0</td>\n",
       "      <td>No</td>\n",
       "    </tr>\n",
       "    <tr>\n",
       "      <th>97666</th>\n",
       "      <td>7.482346e+14</td>\n",
       "      <td>5717451</td>\n",
       "      <td>1</td>\n",
       "      <td>2016-05-19</td>\n",
       "      <td>2016-06-03</td>\n",
       "      <td>115</td>\n",
       "      <td>SÃO JOSÉ</td>\n",
       "      <td>0</td>\n",
       "      <td>1</td>\n",
       "      <td>0</td>\n",
       "      <td>0</td>\n",
       "      <td>0</td>\n",
       "      <td>1</td>\n",
       "      <td>No</td>\n",
       "    </tr>\n",
       "    <tr>\n",
       "      <th>99832</th>\n",
       "      <td>4.659432e+14</td>\n",
       "      <td>5775010</td>\n",
       "      <td>1</td>\n",
       "      <td>2016-06-06</td>\n",
       "      <td>2016-06-06</td>\n",
       "      <td>-1</td>\n",
       "      <td>ROMÃO</td>\n",
       "      <td>0</td>\n",
       "      <td>0</td>\n",
       "      <td>0</td>\n",
       "      <td>0</td>\n",
       "      <td>0</td>\n",
       "      <td>0</td>\n",
       "      <td>No</td>\n",
       "    </tr>\n",
       "  </tbody>\n",
       "</table>\n",
       "</div>"
      ],
      "text/plain": [
       "         patient_id  appoinment_id  gender schedule_date appoinment_date  age  \\\n",
       "58014  9.762948e+14        5651757       1    2016-05-03      2016-05-03  102   \n",
       "63912  3.196321e+13        5700278       1    2016-05-16      2016-05-19  115   \n",
       "63915  3.196321e+13        5700279       1    2016-05-16      2016-05-19  115   \n",
       "68127  3.196321e+13        5562812       1    2016-04-08      2016-05-16  115   \n",
       "76284  3.196321e+13        5744037       1    2016-05-30      2016-05-30  115   \n",
       "90372  2.342836e+11        5751563       1    2016-05-31      2016-06-02  102   \n",
       "97666  7.482346e+14        5717451       1    2016-05-19      2016-06-03  115   \n",
       "99832  4.659432e+14        5775010       1    2016-06-06      2016-06-06   -1   \n",
       "\n",
       "      appoinment_place  scholarship  hyper_tension  diabetes  alcoholic  \\\n",
       "58014        CONQUISTA            0              0         0          0   \n",
       "63912       ANDORINHAS            0              0         0          0   \n",
       "63915       ANDORINHAS            0              0         0          0   \n",
       "68127       ANDORINHAS            0              0         0          0   \n",
       "76284       ANDORINHAS            0              0         0          0   \n",
       "90372      MARIA ORTIZ            0              0         0          0   \n",
       "97666         SÃO JOSÉ            0              1         0          0   \n",
       "99832            ROMÃO            0              0         0          0   \n",
       "\n",
       "       handicapped  sms_received no_show  \n",
       "58014            0             0      No  \n",
       "63912            1             0     Yes  \n",
       "63915            1             0     Yes  \n",
       "68127            1             0     Yes  \n",
       "76284            1             0      No  \n",
       "90372            0             0      No  \n",
       "97666            0             1      No  \n",
       "99832            0             0      No  "
      ]
     },
     "execution_count": 24,
     "metadata": {},
     "output_type": "execute_result"
    }
   ],
   "source": [
    "df[(df[\"age\"]<0) | (df[\"age\"]>100)]"
   ]
  },
  {
   "cell_type": "markdown",
   "id": "e6b4c261-b5da-4df8-aea0-abc29f44b9e9",
   "metadata": {},
   "source": [
    "* 0 age shows the infant babies\n",
    "* -1 in the age column is a wrong record\n",
    "* age>100 could be outliers\n",
    "* Lets replace these values in a way, if any age less than 0 replace to 0 and any age greater than 100 replaced to 100"
   ]
  },
  {
   "cell_type": "code",
   "execution_count": 25,
   "id": "6a3b9a19-02dc-4357-ba1e-d2da03fe6d73",
   "metadata": {},
   "outputs": [],
   "source": [
    "df.age=np.select([df.age>100,df.age<0],[100,0],df.age)"
   ]
  },
  {
   "cell_type": "code",
   "execution_count": 26,
   "id": "7ffb62c5-0734-4016-835a-55b365c6ef3a",
   "metadata": {},
   "outputs": [
    {
     "data": {
      "text/html": [
       "<div>\n",
       "<style scoped>\n",
       "    .dataframe tbody tr th:only-of-type {\n",
       "        vertical-align: middle;\n",
       "    }\n",
       "\n",
       "    .dataframe tbody tr th {\n",
       "        vertical-align: top;\n",
       "    }\n",
       "\n",
       "    .dataframe thead th {\n",
       "        text-align: right;\n",
       "    }\n",
       "</style>\n",
       "<table border=\"1\" class=\"dataframe\">\n",
       "  <thead>\n",
       "    <tr style=\"text-align: right;\">\n",
       "      <th></th>\n",
       "      <th>patient_id</th>\n",
       "      <th>appoinment_id</th>\n",
       "      <th>gender</th>\n",
       "      <th>schedule_date</th>\n",
       "      <th>appoinment_date</th>\n",
       "      <th>age</th>\n",
       "      <th>appoinment_place</th>\n",
       "      <th>scholarship</th>\n",
       "      <th>hyper_tension</th>\n",
       "      <th>diabetes</th>\n",
       "      <th>alcoholic</th>\n",
       "      <th>handicapped</th>\n",
       "      <th>sms_received</th>\n",
       "      <th>no_show</th>\n",
       "    </tr>\n",
       "  </thead>\n",
       "  <tbody>\n",
       "  </tbody>\n",
       "</table>\n",
       "</div>"
      ],
      "text/plain": [
       "Empty DataFrame\n",
       "Columns: [patient_id, appoinment_id, gender, schedule_date, appoinment_date, age, appoinment_place, scholarship, hyper_tension, diabetes, alcoholic, handicapped, sms_received, no_show]\n",
       "Index: []"
      ]
     },
     "execution_count": 26,
     "metadata": {},
     "output_type": "execute_result"
    }
   ],
   "source": [
    "df[(df[\"age\"]<0) | (df[\"age\"]>100)]"
   ]
  },
  {
   "cell_type": "code",
   "execution_count": 27,
   "id": "250db88c-ec5b-4044-a52a-561f5d8f9d94",
   "metadata": {},
   "outputs": [
    {
     "data": {
      "text/plain": [
       "<Axes: >"
      ]
     },
     "execution_count": 27,
     "metadata": {},
     "output_type": "execute_result"
    },
    {
     "data": {
      "image/png": "[encoded data removed]",
      "text/plain": [
       "<Figure size 640x480 with 1 Axes>"
      ]
     },
     "metadata": {},
     "output_type": "display_data"
    }
   ],
   "source": [
    "sns.boxplot(df.age)"
   ]
  },
  {
   "cell_type": "code",
   "execution_count": 28,
   "id": "21f49285-ddae-4601-9f15-d1afec6bbb8a",
   "metadata": {},
   "outputs": [
    {
     "data": {
      "text/plain": [
       "appoinment_place\n",
       "JARDIM CAMBURI                 7717\n",
       "MARIA ORTIZ                    5805\n",
       "RESISTÊNCIA                    4431\n",
       "JARDIM DA PENHA                3877\n",
       "ITARARÉ                        3514\n",
       "                               ... \n",
       "ILHA DO BOI                      35\n",
       "ILHA DO FRADE                    10\n",
       "AEROPORTO                         8\n",
       "ILHAS OCEÂNICAS DE TRINDADE       2\n",
       "PARQUE INDUSTRIAL                 1\n",
       "Name: count, Length: 81, dtype: int64"
      ]
     },
     "execution_count": 28,
     "metadata": {},
     "output_type": "execute_result"
    }
   ],
   "source": [
    "df.appoinment_place.value_counts()"
   ]
  },
  {
   "cell_type": "code",
   "execution_count": 29,
   "id": "d9058dc7-468d-40d8-88cb-9780260f5633",
   "metadata": {},
   "outputs": [
    {
     "data": {
      "text/plain": [
       "scholarship\n",
       "0    99666\n",
       "1    10861\n",
       "Name: count, dtype: int64"
      ]
     },
     "execution_count": 29,
     "metadata": {},
     "output_type": "execute_result"
    }
   ],
   "source": [
    "df.scholarship.value_counts()"
   ]
  },
  {
   "cell_type": "code",
   "execution_count": 30,
   "id": "21c97644-4714-4f25-95c1-b1f9b8e80cf2",
   "metadata": {},
   "outputs": [
    {
     "data": {
      "text/plain": [
       "hyper_tension\n",
       "0    88726\n",
       "1    21801\n",
       "Name: count, dtype: int64"
      ]
     },
     "execution_count": 30,
     "metadata": {},
     "output_type": "execute_result"
    }
   ],
   "source": [
    "df.hyper_tension.value_counts()"
   ]
  },
  {
   "cell_type": "code",
   "execution_count": 31,
   "id": "b3751b7c-2e73-43cf-a22b-2a8d641a2fe0",
   "metadata": {},
   "outputs": [
    {
     "data": {
      "text/plain": [
       "diabetes\n",
       "0    102584\n",
       "1      7943\n",
       "Name: count, dtype: int64"
      ]
     },
     "execution_count": 31,
     "metadata": {},
     "output_type": "execute_result"
    }
   ],
   "source": [
    "df.diabetes.value_counts()"
   ]
  },
  {
   "cell_type": "code",
   "execution_count": 32,
   "id": "6fcff298-5f64-4591-aa47-5668c7746a6f",
   "metadata": {},
   "outputs": [
    {
     "data": {
      "text/plain": [
       "alcoholic\n",
       "0    107167\n",
       "1      3360\n",
       "Name: count, dtype: int64"
      ]
     },
     "execution_count": 32,
     "metadata": {},
     "output_type": "execute_result"
    }
   ],
   "source": [
    "df.alcoholic.value_counts()"
   ]
  },
  {
   "cell_type": "code",
   "execution_count": 33,
   "id": "3f1c34d7-ae05-44db-aac1-ed8c94b5a782",
   "metadata": {},
   "outputs": [
    {
     "data": {
      "text/plain": [
       "handicapped\n",
       "0    108286\n",
       "1      2042\n",
       "2       183\n",
       "3        13\n",
       "4         3\n",
       "Name: count, dtype: int64"
      ]
     },
     "execution_count": 33,
     "metadata": {},
     "output_type": "execute_result"
    }
   ],
   "source": [
    "df.handicapped.value_counts()"
   ]
  },
  {
   "cell_type": "markdown",
   "id": "27fdbf19-7db6-4728-ba0b-3f3d5a9dbd58",
   "metadata": {},
   "source": [
    "* This data should be either true(1) or false(0). So lets relace the values 2,3,4 with the mode value 0"
   ]
  },
  {
   "cell_type": "code",
   "execution_count": 34,
   "id": "52ade73f-0a7c-43c2-873c-6e421d2c8877",
   "metadata": {},
   "outputs": [],
   "source": [
    "df.handicapped=df.handicapped.replace([2,3,4],0)"
   ]
  },
  {
   "cell_type": "code",
   "execution_count": 35,
   "id": "51f77370-2848-4011-a113-748790ab96ed",
   "metadata": {},
   "outputs": [
    {
     "data": {
      "text/plain": [
       "handicapped\n",
       "0    108485\n",
       "1      2042\n",
       "Name: count, dtype: int64"
      ]
     },
     "execution_count": 35,
     "metadata": {},
     "output_type": "execute_result"
    }
   ],
   "source": [
    "df.handicapped.value_counts()"
   ]
  },
  {
   "cell_type": "code",
   "execution_count": 36,
   "id": "5fc7ced7-b2f2-47a9-aa91-a6725b688bf0",
   "metadata": {},
   "outputs": [
    {
     "data": {
      "text/plain": [
       "sms_received\n",
       "0    75045\n",
       "1    35482\n",
       "Name: count, dtype: int64"
      ]
     },
     "execution_count": 36,
     "metadata": {},
     "output_type": "execute_result"
    }
   ],
   "source": [
    "df.sms_received.value_counts()"
   ]
  },
  {
   "cell_type": "code",
   "execution_count": 37,
   "id": "4e8d9bbf-87d0-48a4-b1c3-e870ec1d7bab",
   "metadata": {},
   "outputs": [
    {
     "data": {
      "text/plain": [
       "no_show\n",
       "No     88208\n",
       "Yes    22319\n",
       "Name: count, dtype: int64"
      ]
     },
     "execution_count": 37,
     "metadata": {},
     "output_type": "execute_result"
    }
   ],
   "source": [
    "df.no_show.value_counts()"
   ]
  },
  {
   "cell_type": "code",
   "execution_count": 38,
   "id": "54a670d5-a8b8-4f8d-b8b1-5ee3cd7340c1",
   "metadata": {},
   "outputs": [],
   "source": [
    "df=df.replace({'no_show':{\"No\":0,\"Yes\":1}})"
   ]
  },
  {
   "cell_type": "code",
   "execution_count": 39,
   "id": "d3018a66-1ec5-4eb2-b816-b1092ccfb98f",
   "metadata": {},
   "outputs": [
    {
     "data": {
      "text/plain": [
       "no_show\n",
       "0    88208\n",
       "1    22319\n",
       "Name: count, dtype: int64"
      ]
     },
     "execution_count": 39,
     "metadata": {},
     "output_type": "execute_result"
    }
   ],
   "source": [
    "df.no_show.value_counts()"
   ]
  },
  {
   "cell_type": "code",
   "execution_count": 40,
   "id": "2142585a-a350-4592-a661-32fe8187adde",
   "metadata": {},
   "outputs": [
    {
     "data": {
      "text/plain": [
       "0"
      ]
     },
     "execution_count": 40,
     "metadata": {},
     "output_type": "execute_result"
    }
   ],
   "source": [
    "df.duplicated().sum()"
   ]
  },
  {
   "cell_type": "code",
   "execution_count": 41,
   "id": "ca64bc0c-33c0-4af7-9be3-39a2c9d7bbec",
   "metadata": {},
   "outputs": [
    {
     "data": {
      "text/html": [
       "<div>\n",
       "<style scoped>\n",
       "    .dataframe tbody tr th:only-of-type {\n",
       "        vertical-align: middle;\n",
       "    }\n",
       "\n",
       "    .dataframe tbody tr th {\n",
       "        vertical-align: top;\n",
       "    }\n",
       "\n",
       "    .dataframe thead th {\n",
       "        text-align: right;\n",
       "    }\n",
       "</style>\n",
       "<table border=\"1\" class=\"dataframe\">\n",
       "  <thead>\n",
       "    <tr style=\"text-align: right;\">\n",
       "      <th></th>\n",
       "      <th>patient_id</th>\n",
       "      <th>appoinment_id</th>\n",
       "      <th>gender</th>\n",
       "      <th>schedule_date</th>\n",
       "      <th>appoinment_date</th>\n",
       "      <th>age</th>\n",
       "      <th>appoinment_place</th>\n",
       "      <th>scholarship</th>\n",
       "      <th>hyper_tension</th>\n",
       "      <th>diabetes</th>\n",
       "      <th>alcoholic</th>\n",
       "      <th>handicapped</th>\n",
       "      <th>sms_received</th>\n",
       "      <th>no_show</th>\n",
       "    </tr>\n",
       "  </thead>\n",
       "  <tbody>\n",
       "    <tr>\n",
       "      <th>0</th>\n",
       "      <td>2.987250e+13</td>\n",
       "      <td>5642903</td>\n",
       "      <td>1</td>\n",
       "      <td>2016-04-29</td>\n",
       "      <td>2016-04-29</td>\n",
       "      <td>62</td>\n",
       "      <td>JARDIM DA PENHA</td>\n",
       "      <td>0</td>\n",
       "      <td>1</td>\n",
       "      <td>0</td>\n",
       "      <td>0</td>\n",
       "      <td>0</td>\n",
       "      <td>0</td>\n",
       "      <td>0</td>\n",
       "    </tr>\n",
       "    <tr>\n",
       "      <th>1</th>\n",
       "      <td>5.589978e+14</td>\n",
       "      <td>5642503</td>\n",
       "      <td>0</td>\n",
       "      <td>2016-04-29</td>\n",
       "      <td>2016-04-29</td>\n",
       "      <td>56</td>\n",
       "      <td>JARDIM DA PENHA</td>\n",
       "      <td>0</td>\n",
       "      <td>0</td>\n",
       "      <td>0</td>\n",
       "      <td>0</td>\n",
       "      <td>0</td>\n",
       "      <td>0</td>\n",
       "      <td>0</td>\n",
       "    </tr>\n",
       "    <tr>\n",
       "      <th>2</th>\n",
       "      <td>4.262962e+12</td>\n",
       "      <td>5642549</td>\n",
       "      <td>1</td>\n",
       "      <td>2016-04-29</td>\n",
       "      <td>2016-04-29</td>\n",
       "      <td>62</td>\n",
       "      <td>MATA DA PRAIA</td>\n",
       "      <td>0</td>\n",
       "      <td>0</td>\n",
       "      <td>0</td>\n",
       "      <td>0</td>\n",
       "      <td>0</td>\n",
       "      <td>0</td>\n",
       "      <td>0</td>\n",
       "    </tr>\n",
       "    <tr>\n",
       "      <th>3</th>\n",
       "      <td>8.679512e+11</td>\n",
       "      <td>5642828</td>\n",
       "      <td>1</td>\n",
       "      <td>2016-04-29</td>\n",
       "      <td>2016-04-29</td>\n",
       "      <td>8</td>\n",
       "      <td>PONTAL DE CAMBURI</td>\n",
       "      <td>0</td>\n",
       "      <td>0</td>\n",
       "      <td>0</td>\n",
       "      <td>0</td>\n",
       "      <td>0</td>\n",
       "      <td>0</td>\n",
       "      <td>0</td>\n",
       "    </tr>\n",
       "    <tr>\n",
       "      <th>4</th>\n",
       "      <td>8.841186e+12</td>\n",
       "      <td>5642494</td>\n",
       "      <td>1</td>\n",
       "      <td>2016-04-29</td>\n",
       "      <td>2016-04-29</td>\n",
       "      <td>56</td>\n",
       "      <td>JARDIM DA PENHA</td>\n",
       "      <td>0</td>\n",
       "      <td>1</td>\n",
       "      <td>1</td>\n",
       "      <td>0</td>\n",
       "      <td>0</td>\n",
       "      <td>0</td>\n",
       "      <td>0</td>\n",
       "    </tr>\n",
       "    <tr>\n",
       "      <th>...</th>\n",
       "      <td>...</td>\n",
       "      <td>...</td>\n",
       "      <td>...</td>\n",
       "      <td>...</td>\n",
       "      <td>...</td>\n",
       "      <td>...</td>\n",
       "      <td>...</td>\n",
       "      <td>...</td>\n",
       "      <td>...</td>\n",
       "      <td>...</td>\n",
       "      <td>...</td>\n",
       "      <td>...</td>\n",
       "      <td>...</td>\n",
       "      <td>...</td>\n",
       "    </tr>\n",
       "    <tr>\n",
       "      <th>110522</th>\n",
       "      <td>2.572134e+12</td>\n",
       "      <td>5651768</td>\n",
       "      <td>1</td>\n",
       "      <td>2016-05-03</td>\n",
       "      <td>2016-06-07</td>\n",
       "      <td>56</td>\n",
       "      <td>MARIA ORTIZ</td>\n",
       "      <td>0</td>\n",
       "      <td>0</td>\n",
       "      <td>0</td>\n",
       "      <td>0</td>\n",
       "      <td>0</td>\n",
       "      <td>1</td>\n",
       "      <td>0</td>\n",
       "    </tr>\n",
       "    <tr>\n",
       "      <th>110523</th>\n",
       "      <td>3.596266e+12</td>\n",
       "      <td>5650093</td>\n",
       "      <td>1</td>\n",
       "      <td>2016-05-03</td>\n",
       "      <td>2016-06-07</td>\n",
       "      <td>51</td>\n",
       "      <td>MARIA ORTIZ</td>\n",
       "      <td>0</td>\n",
       "      <td>0</td>\n",
       "      <td>0</td>\n",
       "      <td>0</td>\n",
       "      <td>0</td>\n",
       "      <td>1</td>\n",
       "      <td>0</td>\n",
       "    </tr>\n",
       "    <tr>\n",
       "      <th>110524</th>\n",
       "      <td>1.557663e+13</td>\n",
       "      <td>5630692</td>\n",
       "      <td>1</td>\n",
       "      <td>2016-04-27</td>\n",
       "      <td>2016-06-07</td>\n",
       "      <td>21</td>\n",
       "      <td>MARIA ORTIZ</td>\n",
       "      <td>0</td>\n",
       "      <td>0</td>\n",
       "      <td>0</td>\n",
       "      <td>0</td>\n",
       "      <td>0</td>\n",
       "      <td>1</td>\n",
       "      <td>0</td>\n",
       "    </tr>\n",
       "    <tr>\n",
       "      <th>110525</th>\n",
       "      <td>9.213493e+13</td>\n",
       "      <td>5630323</td>\n",
       "      <td>1</td>\n",
       "      <td>2016-04-27</td>\n",
       "      <td>2016-06-07</td>\n",
       "      <td>38</td>\n",
       "      <td>MARIA ORTIZ</td>\n",
       "      <td>0</td>\n",
       "      <td>0</td>\n",
       "      <td>0</td>\n",
       "      <td>0</td>\n",
       "      <td>0</td>\n",
       "      <td>1</td>\n",
       "      <td>0</td>\n",
       "    </tr>\n",
       "    <tr>\n",
       "      <th>110526</th>\n",
       "      <td>3.775115e+14</td>\n",
       "      <td>5629448</td>\n",
       "      <td>1</td>\n",
       "      <td>2016-04-27</td>\n",
       "      <td>2016-06-07</td>\n",
       "      <td>54</td>\n",
       "      <td>MARIA ORTIZ</td>\n",
       "      <td>0</td>\n",
       "      <td>0</td>\n",
       "      <td>0</td>\n",
       "      <td>0</td>\n",
       "      <td>0</td>\n",
       "      <td>1</td>\n",
       "      <td>0</td>\n",
       "    </tr>\n",
       "  </tbody>\n",
       "</table>\n",
       "<p>110527 rows × 14 columns</p>\n",
       "</div>"
      ],
      "text/plain": [
       "          patient_id  appoinment_id  gender schedule_date appoinment_date  \\\n",
       "0       2.987250e+13        5642903       1    2016-04-29      2016-04-29   \n",
       "1       5.589978e+14        5642503       0    2016-04-29      2016-04-29   \n",
       "2       4.262962e+12        5642549       1    2016-04-29      2016-04-29   \n",
       "3       8.679512e+11        5642828       1    2016-04-29      2016-04-29   \n",
       "4       8.841186e+12        5642494       1    2016-04-29      2016-04-29   \n",
       "...              ...            ...     ...           ...             ...   \n",
       "110522  2.572134e+12        5651768       1    2016-05-03      2016-06-07   \n",
       "110523  3.596266e+12        5650093       1    2016-05-03      2016-06-07   \n",
       "110524  1.557663e+13        5630692       1    2016-04-27      2016-06-07   \n",
       "110525  9.213493e+13        5630323       1    2016-04-27      2016-06-07   \n",
       "110526  3.775115e+14        5629448       1    2016-04-27      2016-06-07   \n",
       "\n",
       "        age   appoinment_place  scholarship  hyper_tension  diabetes  \\\n",
       "0        62    JARDIM DA PENHA            0              1         0   \n",
       "1        56    JARDIM DA PENHA            0              0         0   \n",
       "2        62      MATA DA PRAIA            0              0         0   \n",
       "3         8  PONTAL DE CAMBURI            0              0         0   \n",
       "4        56    JARDIM DA PENHA            0              1         1   \n",
       "...     ...                ...          ...            ...       ...   \n",
       "110522   56        MARIA ORTIZ            0              0         0   \n",
       "110523   51        MARIA ORTIZ            0              0         0   \n",
       "110524   21        MARIA ORTIZ            0              0         0   \n",
       "110525   38        MARIA ORTIZ            0              0         0   \n",
       "110526   54        MARIA ORTIZ            0              0         0   \n",
       "\n",
       "        alcoholic  handicapped  sms_received  no_show  \n",
       "0               0            0             0        0  \n",
       "1               0            0             0        0  \n",
       "2               0            0             0        0  \n",
       "3               0            0             0        0  \n",
       "4               0            0             0        0  \n",
       "...           ...          ...           ...      ...  \n",
       "110522          0            0             1        0  \n",
       "110523          0            0             1        0  \n",
       "110524          0            0             1        0  \n",
       "110525          0            0             1        0  \n",
       "110526          0            0             1        0  \n",
       "\n",
       "[110527 rows x 14 columns]"
      ]
     },
     "execution_count": 41,
     "metadata": {},
     "output_type": "execute_result"
    }
   ],
   "source": [
    "df"
   ]
  },
  {
   "cell_type": "code",
   "execution_count": 42,
   "id": "69d79f6f-1b3e-4247-a0a2-12ccb5d8a91a",
   "metadata": {},
   "outputs": [
    {
     "data": {
      "text/plain": [
       "patient_id                 float64\n",
       "appoinment_id                int64\n",
       "gender                       int64\n",
       "schedule_date       datetime64[ns]\n",
       "appoinment_date     datetime64[ns]\n",
       "age                          int64\n",
       "appoinment_place            object\n",
       "scholarship                  int64\n",
       "hyper_tension                int64\n",
       "diabetes                     int64\n",
       "alcoholic                    int64\n",
       "handicapped                  int64\n",
       "sms_received                 int64\n",
       "no_show                      int64\n",
       "dtype: object"
      ]
     },
     "execution_count": 42,
     "metadata": {},
     "output_type": "execute_result"
    }
   ],
   "source": [
    "df.dtypes"
   ]
  }
 ],
 "metadata": {
  "kernelspec": {
   "display_name": "Python 3 (ipykernel)",
   "language": "python",
   "name": "python3"
  },
  "language_info": {
   "codemirror_mode": {
    "name": "ipython",
    "version": 3
   },
   "file_extension": ".py",
   "mimetype": "text/x-python",
   "name": "python",
   "nbconvert_exporter": "python",
   "pygments_lexer": "ipython3",
   "version": "3.11.9"
  }
 },
 "nbformat": 4,
 "nbformat_minor": 5
}
